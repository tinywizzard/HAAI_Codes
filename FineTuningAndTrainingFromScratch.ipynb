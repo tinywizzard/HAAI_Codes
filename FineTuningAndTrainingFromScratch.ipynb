{
  "nbformat": 4,
  "nbformat_minor": 0,
  "metadata": {
    "colab": {
      "provenance": [],
      "gpuType": "T4",
      "authorship_tag": "ABX9TyOqZe/MjAQqzSJaTmSAThZj",
      "include_colab_link": true
    },
    "kernelspec": {
      "name": "python3",
      "display_name": "Python 3"
    },
    "language_info": {
      "name": "python"
    },
    "accelerator": "GPU"
  },
  "cells": [
    {
      "cell_type": "markdown",
      "metadata": {
        "id": "view-in-github",
        "colab_type": "text"
      },
      "source": [
        "<a href=\"https://colab.research.google.com/github/tinywizzard/HAAI_Codes/blob/main/FineTuningAndTrainingFromScratch.ipynb\" target=\"_parent\"><img src=\"https://colab.research.google.com/assets/colab-badge.svg\" alt=\"Open In Colab\"/></a>"
      ]
    },
    {
      "cell_type": "markdown",
      "source": [
        "## Import all necessary libraries"
      ],
      "metadata": {
        "id": "ZHOUpVMPCTC_"
      }
    },
    {
      "cell_type": "code",
      "source": [
        "!pip install torchmetrics"
      ],
      "metadata": {
        "colab": {
          "base_uri": "https://localhost:8080/"
        },
        "id": "yrvOGTybCrp9",
        "outputId": "4a0c837c-b6b1-447a-ccd4-82bc2e122bf6"
      },
      "execution_count": 1,
      "outputs": [
        {
          "output_type": "stream",
          "name": "stdout",
          "text": [
            "Collecting torchmetrics\n",
            "  Downloading torchmetrics-1.4.1-py3-none-any.whl.metadata (20 kB)\n",
            "Requirement already satisfied: numpy>1.20.0 in /usr/local/lib/python3.10/dist-packages (from torchmetrics) (1.26.4)\n",
            "Requirement already satisfied: packaging>17.1 in /usr/local/lib/python3.10/dist-packages (from torchmetrics) (24.1)\n",
            "Requirement already satisfied: torch>=1.10.0 in /usr/local/lib/python3.10/dist-packages (from torchmetrics) (2.4.0+cu121)\n",
            "Collecting lightning-utilities>=0.8.0 (from torchmetrics)\n",
            "  Downloading lightning_utilities-0.11.7-py3-none-any.whl.metadata (5.2 kB)\n",
            "Requirement already satisfied: setuptools in /usr/local/lib/python3.10/dist-packages (from lightning-utilities>=0.8.0->torchmetrics) (71.0.4)\n",
            "Requirement already satisfied: typing-extensions in /usr/local/lib/python3.10/dist-packages (from lightning-utilities>=0.8.0->torchmetrics) (4.12.2)\n",
            "Requirement already satisfied: filelock in /usr/local/lib/python3.10/dist-packages (from torch>=1.10.0->torchmetrics) (3.15.4)\n",
            "Requirement already satisfied: sympy in /usr/local/lib/python3.10/dist-packages (from torch>=1.10.0->torchmetrics) (1.13.2)\n",
            "Requirement already satisfied: networkx in /usr/local/lib/python3.10/dist-packages (from torch>=1.10.0->torchmetrics) (3.3)\n",
            "Requirement already satisfied: jinja2 in /usr/local/lib/python3.10/dist-packages (from torch>=1.10.0->torchmetrics) (3.1.4)\n",
            "Requirement already satisfied: fsspec in /usr/local/lib/python3.10/dist-packages (from torch>=1.10.0->torchmetrics) (2024.6.1)\n",
            "Requirement already satisfied: MarkupSafe>=2.0 in /usr/local/lib/python3.10/dist-packages (from jinja2->torch>=1.10.0->torchmetrics) (2.1.5)\n",
            "Requirement already satisfied: mpmath<1.4,>=1.1.0 in /usr/local/lib/python3.10/dist-packages (from sympy->torch>=1.10.0->torchmetrics) (1.3.0)\n",
            "Downloading torchmetrics-1.4.1-py3-none-any.whl (866 kB)\n",
            "\u001b[2K   \u001b[90m━━━━━━━━━━━━━━━━━━━━━━━━━━━━━━━━━━━━━━━━\u001b[0m \u001b[32m866.2/866.2 kB\u001b[0m \u001b[31m14.6 MB/s\u001b[0m eta \u001b[36m0:00:00\u001b[0m\n",
            "\u001b[?25hDownloading lightning_utilities-0.11.7-py3-none-any.whl (26 kB)\n",
            "Installing collected packages: lightning-utilities, torchmetrics\n",
            "Successfully installed lightning-utilities-0.11.7 torchmetrics-1.4.1\n"
          ]
        }
      ]
    },
    {
      "cell_type": "code",
      "execution_count": 2,
      "metadata": {
        "id": "dyQDu3PJdrRK"
      },
      "outputs": [],
      "source": [
        "import torch\n",
        "import torch.utils.data\n",
        "from torchvision import transforms\n",
        "from torchvision.datasets import CIFAR100\n",
        "import numpy as np\n",
        "from torchvision.models import resnet18, ResNet18_Weights\n",
        "from tqdm import tqdm\n",
        "from torchmetrics import Accuracy\n",
        "import matplotlib.pyplot as plt\n",
        "import seaborn as sns"
      ]
    },
    {
      "cell_type": "markdown",
      "source": [
        "## Setup the Data Class (CIFAR100)\n",
        "Always create classes for major modules This will make your projects modular, allowing you to switch different, in this case, datasets and test your model. Out of all the advantages of this coding habit, one advantage of creating multiple objects of the data class is that it allows you to perform ensemble learning."
      ],
      "metadata": {
        "id": "AYrWkafUCgPx"
      }
    },
    {
      "cell_type": "code",
      "source": [
        "class DataModule():\n",
        "    def __init__(self, batch_size):\n",
        "        super().__init__()\n",
        "        self.batch_size = batch_size\n",
        "        # We define some augmentations that we would like to apply during training\n",
        "        self.train_transform = transforms.Compose([\n",
        "            transforms.Resize(256),             # CIFAR100 image size is 32x32, so resizing to 256x256 to get close to training data\n",
        "            transforms.RandomCrop(224, 4),      # Random crop for augmentation\n",
        "            transforms.RandomHorizontalFlip(),  # Random horizontal flip for augmentation\n",
        "            transforms.ToTensor(),              # Converting image to tensor\n",
        "            transforms.Normalize((0.485, 0.456, 0.406), (0.229, 0.224, 0.225)), # Subtracting mean then divind by std deviation; three values for RGB\n",
        "        ])\n",
        "        # During validation we need to only normalize and resize\n",
        "        self.val_transform = transforms.Compose([\n",
        "            transforms.Resize(224),\n",
        "            transforms.ToTensor(),\n",
        "            transforms.Normalize((0.485, 0.456, 0.406), (0.229, 0.224, 0.225)),\n",
        "        ])\n",
        "\n",
        "    # This function sets up our datasets\n",
        "    # which includes downloading and applying the augmentations\n",
        "    def prepare_data(self):\n",
        "        self.train_set = CIFAR100(root='./data', train=True, download=True, transform=self.train_transform)\n",
        "        self.val_set = CIFAR100(root='./data', train=False, download=True, transform=self.val_transform)\n",
        "\n",
        "    # This function sets up the data loaders\n",
        "    def setup(self):\n",
        "        self.train_data_loader = torch.utils.data.DataLoader(self.train_set, batch_size=self.batch_size, shuffle=True)\n",
        "        self.val_data_loader = torch.utils.data.DataLoader(self.val_set, batch_size=self.batch_size, shuffle=False)\n",
        "\n",
        "    # This is simply a getter function for the training data loader\n",
        "    def train_dataloader(self):\n",
        "        return self.train_data_loader\n",
        "\n",
        "    # This is simply a getter function for the validation data loader\n",
        "    def val_dataloader(self):\n",
        "        return self.val_data_loader"
      ],
      "metadata": {
        "id": "S7h9Q5LMCdHE"
      },
      "execution_count": 3,
      "outputs": []
    },
    {
      "cell_type": "markdown",
      "source": [
        "## Setup the Model Class\n",
        "Here we will define the model, forward pass and its behaviour during each trainig/validation iteration."
      ],
      "metadata": {
        "id": "r6k-8T4Me7-z"
      }
    },
    {
      "cell_type": "code",
      "source": [
        "class DLModel(torch.nn.Module):\n",
        "    def __init__(self, num_classes, pretrained=True, num_unfreeze_layers=0):\n",
        "        super().__init__()\n",
        "        # If you want to use the imagenet pretrained weights\n",
        "        if pretrained:\n",
        "            self.backbone = resnet18(weights=ResNet18_Weights.DEFAULT) # Import pretrained model\n",
        "            # We freeze the entire model\n",
        "            self.backbone.requires_grad_(False)\n",
        "            # If you want to unfreeze some of the layers then\n",
        "            if num_unfreeze_layers > 0:\n",
        "                # First find number of layers\n",
        "                num_layers = 0\n",
        "                for name, module in self.named_modules():\n",
        "                    if isinstance(module, torch.nn.Conv2d) or isinstance(module, torch.nn.Linear) or isinstance(module, torch.nn.BatchNorm2d):\n",
        "                        num_layers += 1\n",
        "                # Following which unfreeze the last set of layers\n",
        "                start_unfreezing_counter, counter = num_layers - num_unfreeze_layers, 0\n",
        "                for name, module in self.named_modules():\n",
        "                    if isinstance(module, torch.nn.Conv2d) or isinstance(module, torch.nn.Linear) or isinstance(module, torch.nn.BatchNorm2d):\n",
        "                        counter += 1\n",
        "                    if counter >= start_unfreezing_counter:\n",
        "                        module.requires_grad_(True)\n",
        "        # Otherwise just initialize the network from scratch\n",
        "        else:\n",
        "            self.backbone = resnet18(weights=None)\n",
        "            self.backbone.requires_grad_(True)\n",
        "        # The resnet model comes with a 1000 neuron final layer for the imagenet dataset\n",
        "        self.backbone.fc = torch.nn.Sequential(\n",
        "            torch.nn.Linear(512, num_classes)\n",
        "        )\n",
        "\n",
        "        # Define the objective function\n",
        "        self.criterion = torch.nn.CrossEntropyLoss()\n",
        "        # Define the metrics\n",
        "        self.train_acc1, self.val_acc1 = Accuracy(task=\"multiclass\", num_classes=num_classes), Accuracy(task=\"multiclass\", num_classes=num_classes)\n",
        "        self.train_acc5, self.val_acc5 = Accuracy(task=\"multiclass\", num_classes=num_classes, top_k=5), Accuracy(task=\"multiclass\", num_classes=num_classes, top_k=5)\n",
        "\n",
        "    # This function sets up the optimizer and scheduler that we'll use\n",
        "    def configure_optimizers(self, lr, momentum, max_epochs):\n",
        "        self.optimizer = torch.optim.SGD(self.parameters(), lr=lr, momentum=momentum)\n",
        "        self.scheduler = torch.optim.lr_scheduler.CosineAnnealingLR(self.optimizer, T_max=max_epochs)\n",
        "\n",
        "    # This defines the behaviour of our model during the forward pass\n",
        "    # Based on the defined behaviour, PyTorch sets up the backward pass\n",
        "    def forward(self, x):\n",
        "        out = self.backbone(x)\n",
        "        return out\n",
        "\n",
        "    # This function describes model behaviour per iteration during training\n",
        "    def training_step(self, x, y):\n",
        "        self.optimizer.zero_grad()          # Clear all the gradients\n",
        "        preds = self.forward(x)             # Forward pass\n",
        "        self.train_acc1.update(preds, y)    # Update accuracy metrics - top 1\n",
        "        self.train_acc5.update(preds, y)    # Update accuracy metrics - top 5\n",
        "        loss = self.criterion(preds, y)     # Calculate loss\n",
        "        loss.backward()                     # Backward pass - calculates gradients\n",
        "        self.optimizer.step()               # Update weights\n",
        "\n",
        "        return loss.item()\n",
        "\n",
        "    # Once the epoch is complete, we call call this function for inspecting the model's performance\n",
        "    def on_training_epoch_end(self, loss, epoch):\n",
        "        acc1, acc5 = self.train_acc1.compute().item(), self.train_acc5.compute().item()\n",
        "        print(f\"Epoch No: {epoch+1}\\nTraining Loss: {loss}\\nTraining Accuracy: {acc1} (Top-1)\\t {acc5} (Top-5)\")\n",
        "        return acc1, acc5\n",
        "\n",
        "    # This function describes model behaviour per iteration during validation\n",
        "    def validation_step(self, x, y):\n",
        "        preds = self.forward(x)\n",
        "        self.val_acc1.update(preds, y)\n",
        "        self.val_acc5.update(preds, y)\n",
        "        loss = self.criterion(preds, y)\n",
        "        return loss.item()\n",
        "\n",
        "    # Once the validation iterations are complete, we can call this function for inspecting the model's performance\n",
        "    def on_validation_epoch_end(self, loss, epoch):\n",
        "        acc1, acc5 = self.val_acc1.compute().item(), self.val_acc5.compute().item()\n",
        "        print(f\"Validation Loss: {loss}\\nValidation Accuracy: {acc1} (Top-1)\\t {acc5} (Top-5)\")\n",
        "        return acc1, acc5\n",
        "\n",
        "    # This function resets the metrics so that new results can be calculated for the next epoch\n",
        "    def reset_metrics(self):\n",
        "        self.train_acc1.reset(), self.train_acc5.reset()\n",
        "        self.val_acc1.reset(), self.val_acc5.reset()"
      ],
      "metadata": {
        "id": "CEWtbsKgHYBC"
      },
      "execution_count": 9,
      "outputs": []
    },
    {
      "cell_type": "markdown",
      "source": [
        "## Putting it all together\n",
        "We first define some static and global variables"
      ],
      "metadata": {
        "id": "1ivnbCd2JaeD"
      }
    },
    {
      "cell_type": "code",
      "source": [
        "# First define some static variables\n",
        "num_classes = 100\n",
        "num_epochs = 10\n",
        "batch_size = 128\n",
        "# Fine-tuning and training from scratch requires different sets of learning rates\n",
        "lr_finetune, lr_scratch = 0.001, 0.1\n",
        "momentum = 0.9\n",
        "device = torch.device(\"cuda\")\n",
        "\n",
        "# Define the data\n",
        "data_module = DataModule(batch_size=batch_size)\n",
        "data_module.prepare_data()\n",
        "data_module.setup()\n",
        "train_loader, val_loader = data_module.train_dataloader(), data_module.val_dataloader()"
      ],
      "metadata": {
        "colab": {
          "base_uri": "https://localhost:8080/"
        },
        "id": "D_oWs3_RJhSi",
        "outputId": "74a81479-1e63-4d1f-ca14-9842bc0625e7"
      },
      "execution_count": 5,
      "outputs": [
        {
          "output_type": "stream",
          "name": "stdout",
          "text": [
            "Downloading https://www.cs.toronto.edu/~kriz/cifar-100-python.tar.gz to ./data/cifar-100-python.tar.gz\n"
          ]
        },
        {
          "output_type": "stream",
          "name": "stderr",
          "text": [
            "100%|██████████| 169001437/169001437 [00:04<00:00, 42033866.45it/s]\n"
          ]
        },
        {
          "output_type": "stream",
          "name": "stdout",
          "text": [
            "Extracting ./data/cifar-100-python.tar.gz to ./data\n",
            "Files already downloaded and verified\n"
          ]
        }
      ]
    },
    {
      "cell_type": "markdown",
      "source": [
        "## Shallow Fine-tuning\n",
        "We first take a look at shallow fine-tuning (training only the final layer and keeping the remaining model frozen)"
      ],
      "metadata": {
        "id": "NoTTNc2WLcRl"
      }
    },
    {
      "cell_type": "code",
      "source": [
        "# This variable will be used to save the per-epoch validation accuracy\n",
        "shallow_finetuning_val_acc = []\n",
        "# This variable will be used to save the per-epoch training loss\n",
        "shallow_finetuning_train_loss = []\n",
        "\n",
        "# Define the model\n",
        "model = DLModel(num_classes=num_classes, pretrained=True, num_unfreeze_layers=0).to(device)\n",
        "model.configure_optimizers(lr=lr_finetune, momentum=momentum, max_epochs=num_epochs)\n",
        "\n",
        "# Start the training loop\n",
        "for epoch in range(num_epochs):\n",
        "    # This is the training cycle\n",
        "    model.train()\n",
        "    avg_loss = 0\n",
        "    for x, y in tqdm(train_loader, total=len(train_loader)):\n",
        "        x, y = x.to(device), y.to(device)\n",
        "        avg_loss += model.training_step(x, y)\n",
        "    avg_loss /= len(train_loader)\n",
        "    shallow_finetuning_train_loss.append(avg_loss)\n",
        "    acc1, acc5 = model.on_training_epoch_end(avg_loss, epoch)\n",
        "\n",
        "    # This is the validation cycle\n",
        "    model.eval()\n",
        "    avg_loss = 0\n",
        "    # Iterate over each batch and get the predictions\n",
        "    for x, y in tqdm(val_loader, total=len(val_loader)):\n",
        "        x, y = x.to(device), y.to(device)\n",
        "        avg_loss += model.validation_step(x, y)\n",
        "    avg_loss /= len(val_loader)\n",
        "    acc1, acc5 = model.on_validation_epoch_end(avg_loss, epoch)\n",
        "    shallow_finetuning_val_acc.append(acc1)\n",
        "\n",
        "    # Finally reset the metrics before going on to the next batch\n",
        "    model.reset_metrics()"
      ],
      "metadata": {
        "colab": {
          "base_uri": "https://localhost:8080/"
        },
        "id": "wKSZeyoALLux",
        "outputId": "d2cdec60-298b-4f55-f980-6d7ac064fd62"
      },
      "execution_count": 10,
      "outputs": [
        {
          "output_type": "stream",
          "name": "stderr",
          "text": [
            "100%|██████████| 391/391 [02:32<00:00,  2.56it/s]\n"
          ]
        },
        {
          "output_type": "stream",
          "name": "stdout",
          "text": [
            "Epoch No: 1\n",
            "Training Loss: 4.151250597156222\n",
            "Training Accuracy: 0.12734000384807587 (Top-1)\t 0.32113999128341675 (Top-5)\n"
          ]
        },
        {
          "output_type": "stream",
          "name": "stderr",
          "text": [
            "100%|██████████| 79/79 [00:26<00:00,  3.04it/s]\n"
          ]
        },
        {
          "output_type": "stream",
          "name": "stdout",
          "text": [
            "Validation Loss: 3.5632176519949224\n",
            "Validation Accuracy: 0.2770000100135803 (Top-1)\t 0.5828999876976013 (Top-5)\n"
          ]
        },
        {
          "output_type": "stream",
          "name": "stderr",
          "text": [
            "100%|██████████| 391/391 [02:45<00:00,  2.36it/s]\n"
          ]
        },
        {
          "output_type": "stream",
          "name": "stdout",
          "text": [
            "Epoch No: 2\n",
            "Training Loss: 3.2706777000671154\n",
            "Training Accuracy: 0.33851999044418335 (Top-1)\t 0.6505399942398071 (Top-5)\n"
          ]
        },
        {
          "output_type": "stream",
          "name": "stderr",
          "text": [
            "100%|██████████| 79/79 [00:28<00:00,  2.77it/s]\n"
          ]
        },
        {
          "output_type": "stream",
          "name": "stdout",
          "text": [
            "Validation Loss: 2.8925405876545964\n",
            "Validation Accuracy: 0.39570000767707825 (Top-1)\t 0.7199000120162964 (Top-5)\n"
          ]
        },
        {
          "output_type": "stream",
          "name": "stderr",
          "text": [
            "100%|██████████| 391/391 [02:46<00:00,  2.35it/s]\n"
          ]
        },
        {
          "output_type": "stream",
          "name": "stdout",
          "text": [
            "Epoch No: 3\n",
            "Training Loss: 2.7786152125014674\n",
            "Training Accuracy: 0.4191400110721588 (Top-1)\t 0.7376199960708618 (Top-5)\n"
          ]
        },
        {
          "output_type": "stream",
          "name": "stderr",
          "text": [
            "100%|██████████| 79/79 [00:28<00:00,  2.81it/s]\n"
          ]
        },
        {
          "output_type": "stream",
          "name": "stdout",
          "text": [
            "Validation Loss: 2.5092715040037903\n",
            "Validation Accuracy: 0.45489999651908875 (Top-1)\t 0.7627999782562256 (Top-5)\n"
          ]
        },
        {
          "output_type": "stream",
          "name": "stderr",
          "text": [
            "100%|██████████| 391/391 [02:46<00:00,  2.35it/s]\n"
          ]
        },
        {
          "output_type": "stream",
          "name": "stdout",
          "text": [
            "Epoch No: 4\n",
            "Training Loss: 2.487268586902667\n",
            "Training Accuracy: 0.45857998728752136 (Top-1)\t 0.7683600187301636 (Top-5)\n"
          ]
        },
        {
          "output_type": "stream",
          "name": "stderr",
          "text": [
            "100%|██████████| 79/79 [00:28<00:00,  2.79it/s]\n"
          ]
        },
        {
          "output_type": "stream",
          "name": "stdout",
          "text": [
            "Validation Loss: 2.2953147284592252\n",
            "Validation Accuracy: 0.4812999963760376 (Top-1)\t 0.7813000082969666 (Top-5)\n"
          ]
        },
        {
          "output_type": "stream",
          "name": "stderr",
          "text": [
            "100%|██████████| 391/391 [02:46<00:00,  2.35it/s]\n"
          ]
        },
        {
          "output_type": "stream",
          "name": "stdout",
          "text": [
            "Epoch No: 5\n",
            "Training Loss: 2.2967980908006047\n",
            "Training Accuracy: 0.4796999990940094 (Top-1)\t 0.785260021686554 (Top-5)\n"
          ]
        },
        {
          "output_type": "stream",
          "name": "stderr",
          "text": [
            "100%|██████████| 79/79 [00:28<00:00,  2.75it/s]\n"
          ]
        },
        {
          "output_type": "stream",
          "name": "stdout",
          "text": [
            "Validation Loss: 2.12808817398699\n",
            "Validation Accuracy: 0.49900001287460327 (Top-1)\t 0.8009999990463257 (Top-5)\n"
          ]
        },
        {
          "output_type": "stream",
          "name": "stderr",
          "text": [
            "100%|██████████| 391/391 [02:38<00:00,  2.47it/s]\n"
          ]
        },
        {
          "output_type": "stream",
          "name": "stdout",
          "text": [
            "Epoch No: 6\n",
            "Training Loss: 2.168552442584806\n",
            "Training Accuracy: 0.4968000054359436 (Top-1)\t 0.7981399893760681 (Top-5)\n"
          ]
        },
        {
          "output_type": "stream",
          "name": "stderr",
          "text": [
            "100%|██████████| 79/79 [00:30<00:00,  2.62it/s]\n"
          ]
        },
        {
          "output_type": "stream",
          "name": "stdout",
          "text": [
            "Validation Loss: 2.0214678365972976\n",
            "Validation Accuracy: 0.5116000175476074 (Top-1)\t 0.8066999912261963 (Top-5)\n"
          ]
        },
        {
          "output_type": "stream",
          "name": "stderr",
          "text": [
            "100%|██████████| 391/391 [02:39<00:00,  2.45it/s]\n"
          ]
        },
        {
          "output_type": "stream",
          "name": "stdout",
          "text": [
            "Epoch No: 7\n",
            "Training Loss: 2.0723995357523184\n",
            "Training Accuracy: 0.5069400072097778 (Top-1)\t 0.8058599829673767 (Top-5)\n"
          ]
        },
        {
          "output_type": "stream",
          "name": "stderr",
          "text": [
            "100%|██████████| 79/79 [00:26<00:00,  2.95it/s]\n"
          ]
        },
        {
          "output_type": "stream",
          "name": "stdout",
          "text": [
            "Validation Loss: 1.9599343508104734\n",
            "Validation Accuracy: 0.5178999900817871 (Top-1)\t 0.8083999752998352 (Top-5)\n"
          ]
        },
        {
          "output_type": "stream",
          "name": "stderr",
          "text": [
            "100%|██████████| 391/391 [02:54<00:00,  2.24it/s]\n"
          ]
        },
        {
          "output_type": "stream",
          "name": "stdout",
          "text": [
            "Epoch No: 8\n",
            "Training Loss: 2.0028858294572367\n",
            "Training Accuracy: 0.5141400098800659 (Top-1)\t 0.8110799789428711 (Top-5)\n"
          ]
        },
        {
          "output_type": "stream",
          "name": "stderr",
          "text": [
            "100%|██████████| 79/79 [00:26<00:00,  3.00it/s]\n"
          ]
        },
        {
          "output_type": "stream",
          "name": "stdout",
          "text": [
            "Validation Loss: 1.8851795694496059\n",
            "Validation Accuracy: 0.5291000008583069 (Top-1)\t 0.8170999884605408 (Top-5)\n"
          ]
        },
        {
          "output_type": "stream",
          "name": "stderr",
          "text": [
            "100%|██████████| 391/391 [02:41<00:00,  2.42it/s]\n"
          ]
        },
        {
          "output_type": "stream",
          "name": "stdout",
          "text": [
            "Epoch No: 9\n",
            "Training Loss: 1.9366822913479622\n",
            "Training Accuracy: 0.5238400101661682 (Top-1)\t 0.8176199793815613 (Top-5)\n"
          ]
        },
        {
          "output_type": "stream",
          "name": "stderr",
          "text": [
            "100%|██████████| 79/79 [00:28<00:00,  2.81it/s]\n"
          ]
        },
        {
          "output_type": "stream",
          "name": "stdout",
          "text": [
            "Validation Loss: 1.8360501588145388\n",
            "Validation Accuracy: 0.5339999794960022 (Top-1)\t 0.8234000205993652 (Top-5)\n"
          ]
        },
        {
          "output_type": "stream",
          "name": "stderr",
          "text": [
            "100%|██████████| 391/391 [02:41<00:00,  2.42it/s]\n"
          ]
        },
        {
          "output_type": "stream",
          "name": "stdout",
          "text": [
            "Epoch No: 10\n",
            "Training Loss: 1.8876103553015862\n",
            "Training Accuracy: 0.5307599902153015 (Top-1)\t 0.8225799798965454 (Top-5)\n"
          ]
        },
        {
          "output_type": "stream",
          "name": "stderr",
          "text": [
            "100%|██████████| 79/79 [00:30<00:00,  2.62it/s]"
          ]
        },
        {
          "output_type": "stream",
          "name": "stdout",
          "text": [
            "Validation Loss: 1.8046965297264388\n",
            "Validation Accuracy: 0.5393999814987183 (Top-1)\t 0.8234999775886536 (Top-5)\n"
          ]
        },
        {
          "output_type": "stream",
          "name": "stderr",
          "text": [
            "\n"
          ]
        }
      ]
    },
    {
      "cell_type": "markdown",
      "source": [
        "## Deep Fine-tuning\n",
        "We now take a look at deep fine-tuning (training some of the final layers while keeping the remaining layers frozen)"
      ],
      "metadata": {
        "id": "1AnZ4MhqWoDN"
      }
    },
    {
      "cell_type": "code",
      "source": [
        "# This variable will be used to save the per-epoch validation accuracy\n",
        "deep_finetuning_val_acc = []\n",
        "# This variable will be used to save the per-epoch training loss\n",
        "deep_finetuning_train_loss = []\n",
        "\n",
        "# Define the model\n",
        "model = DLModel(num_classes=num_classes, pretrained=True, num_unfreeze_layers=31).to(device)\n",
        "model.configure_optimizers(lr=lr_finetune, momentum=momentum, max_epochs=num_epochs)\n",
        "\n",
        "# Start the training loop\n",
        "for epoch in range(num_epochs):\n",
        "    # This is the training cycle\n",
        "    model.train()\n",
        "    avg_loss = 0\n",
        "    for x, y in tqdm(train_loader, total=len(train_loader)):\n",
        "        x, y = x.to(device), y.to(device)\n",
        "        avg_loss += model.training_step(x, y)\n",
        "    avg_loss /= len(train_loader)\n",
        "    deep_finetuning_train_loss.append(avg_loss)\n",
        "    acc1, acc5 = model.on_training_epoch_end(avg_loss, epoch)\n",
        "\n",
        "    # This is the validation cycle\n",
        "    model.eval()\n",
        "    avg_loss = 0\n",
        "    # Iterate over each batch and get the predictions\n",
        "    for x, y in tqdm(val_loader, total=len(val_loader)):\n",
        "        x, y = x.to(device), y.to(device)\n",
        "        avg_loss += model.validation_step(x, y)\n",
        "    avg_loss /= len(val_loader)\n",
        "    acc1, acc5 = model.on_validation_epoch_end(avg_loss, epoch)\n",
        "    deep_finetuning_val_acc.append(acc1)\n",
        "\n",
        "    # Finally reset the metrics before going on to the next batch\n",
        "    model.reset_metrics()"
      ],
      "metadata": {
        "colab": {
          "base_uri": "https://localhost:8080/"
        },
        "id": "fgTHoSLAOTQC",
        "outputId": "e32608b1-2afa-4b42-81ba-649bfe0e4639"
      },
      "execution_count": 11,
      "outputs": [
        {
          "output_type": "stream",
          "name": "stderr",
          "text": [
            "100%|██████████| 391/391 [04:05<00:00,  1.59it/s]\n"
          ]
        },
        {
          "output_type": "stream",
          "name": "stdout",
          "text": [
            "Epoch No: 1\n",
            "Training Loss: 3.349419207829039\n",
            "Training Accuracy: 0.28929999470710754 (Top-1)\t 0.5512400269508362 (Top-5)\n"
          ]
        },
        {
          "output_type": "stream",
          "name": "stderr",
          "text": [
            "100%|██████████| 79/79 [00:28<00:00,  2.73it/s]\n"
          ]
        },
        {
          "output_type": "stream",
          "name": "stdout",
          "text": [
            "Validation Loss: 2.1429621826244305\n",
            "Validation Accuracy: 0.5062000155448914 (Top-1)\t 0.819100022315979 (Top-5)\n"
          ]
        },
        {
          "output_type": "stream",
          "name": "stderr",
          "text": [
            "100%|██████████| 391/391 [03:38<00:00,  1.79it/s]\n"
          ]
        },
        {
          "output_type": "stream",
          "name": "stdout",
          "text": [
            "Epoch No: 2\n",
            "Training Loss: 1.7809134185161737\n",
            "Training Accuracy: 0.5786200165748596 (Top-1)\t 0.8658599853515625 (Top-5)\n"
          ]
        },
        {
          "output_type": "stream",
          "name": "stderr",
          "text": [
            "100%|██████████| 79/79 [00:29<00:00,  2.72it/s]\n"
          ]
        },
        {
          "output_type": "stream",
          "name": "stdout",
          "text": [
            "Validation Loss: 1.4111811405495753\n",
            "Validation Accuracy: 0.6399999856948853 (Top-1)\t 0.9082000255584717 (Top-5)\n"
          ]
        },
        {
          "output_type": "stream",
          "name": "stderr",
          "text": [
            "100%|██████████| 391/391 [03:38<00:00,  1.79it/s]\n"
          ]
        },
        {
          "output_type": "stream",
          "name": "stdout",
          "text": [
            "Epoch No: 3\n",
            "Training Loss: 1.3182783677145038\n",
            "Training Accuracy: 0.6620000004768372 (Top-1)\t 0.9174200296401978 (Top-5)\n"
          ]
        },
        {
          "output_type": "stream",
          "name": "stderr",
          "text": [
            "100%|██████████| 79/79 [00:28<00:00,  2.72it/s]\n"
          ]
        },
        {
          "output_type": "stream",
          "name": "stdout",
          "text": [
            "Validation Loss: 1.1624525144130369\n",
            "Validation Accuracy: 0.683899998664856 (Top-1)\t 0.9266999959945679 (Top-5)\n"
          ]
        },
        {
          "output_type": "stream",
          "name": "stderr",
          "text": [
            "100%|██████████| 391/391 [03:38<00:00,  1.79it/s]\n"
          ]
        },
        {
          "output_type": "stream",
          "name": "stdout",
          "text": [
            "Epoch No: 4\n",
            "Training Loss: 1.0976577349331067\n",
            "Training Accuracy: 0.7063400149345398 (Top-1)\t 0.9381999969482422 (Top-5)\n"
          ]
        },
        {
          "output_type": "stream",
          "name": "stderr",
          "text": [
            "100%|██████████| 79/79 [00:28<00:00,  2.73it/s]\n"
          ]
        },
        {
          "output_type": "stream",
          "name": "stdout",
          "text": [
            "Validation Loss: 1.0176657679714733\n",
            "Validation Accuracy: 0.7171000242233276 (Top-1)\t 0.9397000074386597 (Top-5)\n"
          ]
        },
        {
          "output_type": "stream",
          "name": "stderr",
          "text": [
            "100%|██████████| 391/391 [03:37<00:00,  1.80it/s]\n"
          ]
        },
        {
          "output_type": "stream",
          "name": "stdout",
          "text": [
            "Epoch No: 5\n",
            "Training Loss: 0.9626756667176171\n",
            "Training Accuracy: 0.7360799908638 (Top-1)\t 0.9502999782562256 (Top-5)\n"
          ]
        },
        {
          "output_type": "stream",
          "name": "stderr",
          "text": [
            "100%|██████████| 79/79 [00:29<00:00,  2.72it/s]\n"
          ]
        },
        {
          "output_type": "stream",
          "name": "stdout",
          "text": [
            "Validation Loss: 0.9316395702241342\n",
            "Validation Accuracy: 0.7354999780654907 (Top-1)\t 0.9484000205993652 (Top-5)\n"
          ]
        },
        {
          "output_type": "stream",
          "name": "stderr",
          "text": [
            "100%|██████████| 391/391 [03:37<00:00,  1.79it/s]\n"
          ]
        },
        {
          "output_type": "stream",
          "name": "stdout",
          "text": [
            "Epoch No: 6\n",
            "Training Loss: 0.8617179562978428\n",
            "Training Accuracy: 0.7592599987983704 (Top-1)\t 0.9585400223731995 (Top-5)\n"
          ]
        },
        {
          "output_type": "stream",
          "name": "stderr",
          "text": [
            "100%|██████████| 79/79 [00:28<00:00,  2.72it/s]\n"
          ]
        },
        {
          "output_type": "stream",
          "name": "stdout",
          "text": [
            "Validation Loss: 0.8703393792804284\n",
            "Validation Accuracy: 0.7486000061035156 (Top-1)\t 0.9526000022888184 (Top-5)\n"
          ]
        },
        {
          "output_type": "stream",
          "name": "stderr",
          "text": [
            "100%|██████████| 391/391 [03:37<00:00,  1.79it/s]\n"
          ]
        },
        {
          "output_type": "stream",
          "name": "stdout",
          "text": [
            "Epoch No: 7\n",
            "Training Loss: 0.7851917749780524\n",
            "Training Accuracy: 0.7791600227355957 (Top-1)\t 0.9652400016784668 (Top-5)\n"
          ]
        },
        {
          "output_type": "stream",
          "name": "stderr",
          "text": [
            "100%|██████████| 79/79 [00:29<00:00,  2.71it/s]\n"
          ]
        },
        {
          "output_type": "stream",
          "name": "stdout",
          "text": [
            "Validation Loss: 0.8299988198883926\n",
            "Validation Accuracy: 0.7605000138282776 (Top-1)\t 0.9570000171661377 (Top-5)\n"
          ]
        },
        {
          "output_type": "stream",
          "name": "stderr",
          "text": [
            "100%|██████████| 391/391 [03:37<00:00,  1.80it/s]\n"
          ]
        },
        {
          "output_type": "stream",
          "name": "stdout",
          "text": [
            "Epoch No: 8\n",
            "Training Loss: 0.7229907492847394\n",
            "Training Accuracy: 0.796180009841919 (Top-1)\t 0.9688599705696106 (Top-5)\n"
          ]
        },
        {
          "output_type": "stream",
          "name": "stderr",
          "text": [
            "100%|██████████| 79/79 [00:29<00:00,  2.72it/s]\n"
          ]
        },
        {
          "output_type": "stream",
          "name": "stdout",
          "text": [
            "Validation Loss: 0.8037765908844864\n",
            "Validation Accuracy: 0.7628999948501587 (Top-1)\t 0.957099974155426 (Top-5)\n"
          ]
        },
        {
          "output_type": "stream",
          "name": "stderr",
          "text": [
            "100%|██████████| 391/391 [03:37<00:00,  1.80it/s]\n"
          ]
        },
        {
          "output_type": "stream",
          "name": "stdout",
          "text": [
            "Epoch No: 9\n",
            "Training Loss: 0.6708522969499573\n",
            "Training Accuracy: 0.8081600069999695 (Top-1)\t 0.9731400012969971 (Top-5)\n"
          ]
        },
        {
          "output_type": "stream",
          "name": "stderr",
          "text": [
            "100%|██████████| 79/79 [00:28<00:00,  2.73it/s]\n"
          ]
        },
        {
          "output_type": "stream",
          "name": "stdout",
          "text": [
            "Validation Loss: 0.7711197175557101\n",
            "Validation Accuracy: 0.7730000019073486 (Top-1)\t 0.9595000147819519 (Top-5)\n"
          ]
        },
        {
          "output_type": "stream",
          "name": "stderr",
          "text": [
            "100%|██████████| 391/391 [03:37<00:00,  1.80it/s]\n"
          ]
        },
        {
          "output_type": "stream",
          "name": "stdout",
          "text": [
            "Epoch No: 10\n",
            "Training Loss: 0.6220719866130663\n",
            "Training Accuracy: 0.8217999935150146 (Top-1)\t 0.976140022277832 (Top-5)\n"
          ]
        },
        {
          "output_type": "stream",
          "name": "stderr",
          "text": [
            "100%|██████████| 79/79 [00:28<00:00,  2.74it/s]"
          ]
        },
        {
          "output_type": "stream",
          "name": "stdout",
          "text": [
            "Validation Loss: 0.7536500473565693\n",
            "Validation Accuracy: 0.7781000137329102 (Top-1)\t 0.960099995136261 (Top-5)\n"
          ]
        },
        {
          "output_type": "stream",
          "name": "stderr",
          "text": [
            "\n"
          ]
        }
      ]
    },
    {
      "cell_type": "markdown",
      "source": [
        "## Training from Scratch\n",
        "Finally, we train the ResNet18 model from scratch on CIFAR100 dataset"
      ],
      "metadata": {
        "id": "vQCXQ3zGYUsz"
      }
    },
    {
      "cell_type": "code",
      "source": [
        "# This variable will be used to save the per-epoch validation accuracy\n",
        "scratch_val_acc = []\n",
        "# This variable will be used to save the per-epoch training loss\n",
        "scratch_train_loss = []\n",
        "\n",
        "# Define the model\n",
        "model = DLModel(num_classes=num_classes, pretrained=False, num_unfreeze_layers=0).to(device)\n",
        "model.configure_optimizers(lr=lr_finetune, momentum=momentum, max_epochs=num_epochs)\n",
        "\n",
        "# Start the training loop\n",
        "for epoch in range(num_epochs):\n",
        "    # This is the training cycle\n",
        "    model.train()\n",
        "    avg_loss = 0\n",
        "    # Iterate over each batch and update the model\n",
        "    for x, y in tqdm(train_loader, total=len(train_loader)):\n",
        "        x, y = x.to(device), y.to(device)\n",
        "        avg_loss += model.training_step(x, y)\n",
        "    avg_loss /= len(train_loader)\n",
        "    scratch_train_loss.append(avg_loss)\n",
        "    acc1, acc5 = model.on_training_epoch_end(avg_loss, epoch)\n",
        "\n",
        "    # This is the validation cycle\n",
        "    model.eval()\n",
        "    avg_loss = 0\n",
        "    # Iterate over each batch and get the predictions\n",
        "    for x, y in tqdm(val_loader, total=len(val_loader)):\n",
        "        x, y = x.to(device), y.to(device)\n",
        "        avg_loss += model.validation_step(x, y)\n",
        "    avg_loss /= len(val_loader)\n",
        "    acc1, acc5 = model.on_validation_epoch_end(avg_loss, epoch)\n",
        "    scratch_val_acc.append(acc1)\n",
        "\n",
        "    # Finally reset the metrics before going on to the next batch\n",
        "    model.reset_metrics()"
      ],
      "metadata": {
        "colab": {
          "base_uri": "https://localhost:8080/"
        },
        "id": "3cdTZ9c5YhX5",
        "outputId": "47b970e4-ab4c-46e4-d37d-c4d889bcb5b9"
      },
      "execution_count": 12,
      "outputs": [
        {
          "metadata": {
            "tags": null
          },
          "name": "stderr",
          "output_type": "stream",
          "text": [
            "100%|██████████| 391/391 [04:01<00:00,  1.62it/s]\n"
          ]
        },
        {
          "metadata": {
            "tags": null
          },
          "name": "stdout",
          "output_type": "stream",
          "text": [
            "Epoch No: 1\n",
            "Training Loss: 4.261687725096407\n",
            "Training Accuracy: 0.0676800012588501 (Top-1)\t 0.20785999298095703 (Top-5)\n"
          ]
        },
        {
          "metadata": {
            "tags": null
          },
          "name": "stderr",
          "output_type": "stream",
          "text": [
            "100%|██████████| 79/79 [00:29<00:00,  2.68it/s]\n"
          ]
        },
        {
          "metadata": {
            "tags": null
          },
          "name": "stdout",
          "output_type": "stream",
          "text": [
            "Validation Loss: 4.019927860815314\n",
            "Validation Accuracy: 0.1023000031709671 (Top-1)\t 0.2840000092983246 (Top-5)\n"
          ]
        },
        {
          "metadata": {
            "tags": null
          },
          "name": "stderr",
          "output_type": "stream",
          "text": [
            "100%|██████████| 391/391 [04:18<00:00,  1.51it/s]\n"
          ]
        },
        {
          "metadata": {
            "tags": null
          },
          "name": "stdout",
          "output_type": "stream",
          "text": [
            "Epoch No: 2\n",
            "Training Loss: 3.882465721701112\n",
            "Training Accuracy: 0.11448000371456146 (Top-1)\t 0.32293999195098877 (Top-5)\n"
          ]
        },
        {
          "metadata": {
            "tags": null
          },
          "name": "stderr",
          "output_type": "stream",
          "text": [
            "100%|██████████| 79/79 [00:28<00:00,  2.73it/s]\n"
          ]
        },
        {
          "metadata": {
            "tags": null
          },
          "name": "stdout",
          "output_type": "stream",
          "text": [
            "Validation Loss: 3.8179317939130564\n",
            "Validation Accuracy: 0.11550000309944153 (Top-1)\t 0.3328000009059906 (Top-5)\n"
          ]
        },
        {
          "metadata": {
            "tags": null
          },
          "name": "stderr",
          "output_type": "stream",
          "text": [
            "100%|██████████| 391/391 [04:18<00:00,  1.51it/s]\n"
          ]
        },
        {
          "metadata": {
            "tags": null
          },
          "name": "stdout",
          "output_type": "stream",
          "text": [
            "Epoch No: 3\n",
            "Training Loss: 3.679991445882851\n",
            "Training Accuracy: 0.14271999895572662 (Top-1)\t 0.3767400085926056 (Top-5)\n"
          ]
        },
        {
          "metadata": {
            "tags": null
          },
          "name": "stderr",
          "output_type": "stream",
          "text": [
            "100%|██████████| 79/79 [00:28<00:00,  2.73it/s]\n"
          ]
        },
        {
          "metadata": {
            "tags": null
          },
          "name": "stdout",
          "output_type": "stream",
          "text": [
            "Validation Loss: 3.5972420565689665\n",
            "Validation Accuracy: 0.15219999849796295 (Top-1)\t 0.3953000009059906 (Top-5)\n"
          ]
        },
        {
          "metadata": {
            "tags": null
          },
          "name": "stderr",
          "output_type": "stream",
          "text": [
            "100%|██████████| 391/391 [04:18<00:00,  1.51it/s]\n"
          ]
        },
        {
          "metadata": {
            "tags": null
          },
          "name": "stdout",
          "output_type": "stream",
          "text": [
            "Epoch No: 4\n",
            "Training Loss: 3.5326616410404217\n",
            "Training Accuracy: 0.1658799946308136 (Top-1)\t 0.4156799912452698 (Top-5)\n"
          ]
        },
        {
          "metadata": {
            "tags": null
          },
          "name": "stderr",
          "output_type": "stream",
          "text": [
            "100%|██████████| 79/79 [00:28<00:00,  2.73it/s]\n"
          ]
        },
        {
          "metadata": {
            "tags": null
          },
          "name": "stdout",
          "output_type": "stream",
          "text": [
            "Validation Loss: 3.4835462811626967\n",
            "Validation Accuracy: 0.17870000004768372 (Top-1)\t 0.429500013589859 (Top-5)\n"
          ]
        },
        {
          "metadata": {
            "tags": null
          },
          "name": "stderr",
          "output_type": "stream",
          "text": [
            "100%|██████████| 391/391 [04:17<00:00,  1.52it/s]\n"
          ]
        },
        {
          "metadata": {
            "tags": null
          },
          "name": "stdout",
          "output_type": "stream",
          "text": [
            "Epoch No: 5\n",
            "Training Loss: 3.411551096250334\n",
            "Training Accuracy: 0.18602000176906586 (Top-1)\t 0.4495199918746948 (Top-5)\n"
          ]
        },
        {
          "metadata": {
            "tags": null
          },
          "name": "stderr",
          "output_type": "stream",
          "text": [
            "100%|██████████| 79/79 [00:29<00:00,  2.69it/s]\n"
          ]
        },
        {
          "metadata": {
            "tags": null
          },
          "name": "stdout",
          "output_type": "stream",
          "text": [
            "Validation Loss: 3.4197146379494967\n",
            "Validation Accuracy: 0.18140000104904175 (Top-1)\t 0.44339999556541443 (Top-5)\n"
          ]
        },
        {
          "output_type": "stream",
          "name": "stderr",
          "text": [
            "100%|██████████| 391/391 [04:17<00:00,  1.52it/s]\n"
          ]
        },
        {
          "output_type": "stream",
          "name": "stdout",
          "text": [
            "Epoch No: 6\n",
            "Training Loss: 3.3036542018051342\n",
            "Training Accuracy: 0.2058199942111969 (Top-1)\t 0.4801799952983856 (Top-5)\n"
          ]
        },
        {
          "output_type": "stream",
          "name": "stderr",
          "text": [
            "100%|██████████| 79/79 [00:29<00:00,  2.70it/s]\n"
          ]
        },
        {
          "output_type": "stream",
          "name": "stdout",
          "text": [
            "Validation Loss: 3.2845427718343614\n",
            "Validation Accuracy: 0.21080000698566437 (Top-1)\t 0.48170000314712524 (Top-5)\n"
          ]
        },
        {
          "output_type": "stream",
          "name": "stderr",
          "text": [
            "100%|██████████| 391/391 [04:17<00:00,  1.52it/s]\n"
          ]
        },
        {
          "output_type": "stream",
          "name": "stdout",
          "text": [
            "Epoch No: 7\n",
            "Training Loss: 3.199497308877423\n",
            "Training Accuracy: 0.227400004863739 (Top-1)\t 0.5094000101089478 (Top-5)\n"
          ]
        },
        {
          "output_type": "stream",
          "name": "stderr",
          "text": [
            "100%|██████████| 79/79 [00:29<00:00,  2.69it/s]\n"
          ]
        },
        {
          "output_type": "stream",
          "name": "stdout",
          "text": [
            "Validation Loss: 3.1924802683576754\n",
            "Validation Accuracy: 0.22789999842643738 (Top-1)\t 0.5063999891281128 (Top-5)\n"
          ]
        },
        {
          "output_type": "stream",
          "name": "stderr",
          "text": [
            "100%|██████████| 391/391 [04:18<00:00,  1.51it/s]\n"
          ]
        },
        {
          "output_type": "stream",
          "name": "stdout",
          "text": [
            "Epoch No: 8\n",
            "Training Loss: 3.098082355221214\n",
            "Training Accuracy: 0.24400000274181366 (Top-1)\t 0.5360199809074402 (Top-5)\n"
          ]
        },
        {
          "output_type": "stream",
          "name": "stderr",
          "text": [
            "100%|██████████| 79/79 [00:29<00:00,  2.70it/s]\n"
          ]
        },
        {
          "output_type": "stream",
          "name": "stdout",
          "text": [
            "Validation Loss: 3.1495282740532597\n",
            "Validation Accuracy: 0.23070000112056732 (Top-1)\t 0.5221999883651733 (Top-5)\n"
          ]
        },
        {
          "output_type": "stream",
          "name": "stderr",
          "text": [
            "100%|██████████| 391/391 [04:18<00:00,  1.52it/s]\n"
          ]
        },
        {
          "output_type": "stream",
          "name": "stdout",
          "text": [
            "Epoch No: 9\n",
            "Training Loss: 3.006765375356845\n",
            "Training Accuracy: 0.26076000928878784 (Top-1)\t 0.5587599873542786 (Top-5)\n"
          ]
        },
        {
          "output_type": "stream",
          "name": "stderr",
          "text": [
            "100%|██████████| 79/79 [00:29<00:00,  2.71it/s]\n"
          ]
        },
        {
          "output_type": "stream",
          "name": "stdout",
          "text": [
            "Validation Loss: 3.056320145160337\n",
            "Validation Accuracy: 0.2533000111579895 (Top-1)\t 0.541700005531311 (Top-5)\n"
          ]
        },
        {
          "output_type": "stream",
          "name": "stderr",
          "text": [
            "100%|██████████| 391/391 [04:17<00:00,  1.52it/s]\n"
          ]
        },
        {
          "output_type": "stream",
          "name": "stdout",
          "text": [
            "Epoch No: 10\n",
            "Training Loss: 2.9141906569985783\n",
            "Training Accuracy: 0.2778800129890442 (Top-1)\t 0.5813199877738953 (Top-5)\n"
          ]
        },
        {
          "output_type": "stream",
          "name": "stderr",
          "text": [
            "100%|██████████| 79/79 [00:29<00:00,  2.72it/s]"
          ]
        },
        {
          "output_type": "stream",
          "name": "stdout",
          "text": [
            "Validation Loss: 2.921682949307599\n",
            "Validation Accuracy: 0.2822999954223633 (Top-1)\t 0.5756000280380249 (Top-5)\n"
          ]
        },
        {
          "output_type": "stream",
          "name": "stderr",
          "text": [
            "\n"
          ]
        }
      ]
    },
    {
      "cell_type": "markdown",
      "source": [
        "## Comparisons\n",
        "Now that we have evaluated the models under three different forms of training, let us compare them"
      ],
      "metadata": {
        "id": "fesVlT5AZS59"
      }
    },
    {
      "cell_type": "code",
      "source": [
        "# Comparing the Training loss per epoch\n",
        "sns.lineplot(x=np.arange(len(shallow_finetuning_train_loss)), y=shallow_finetuning_train_loss, label=\"Shallow Fine-tuning\")\n",
        "sns.lineplot(x=np.arange(len(deep_finetuning_train_loss)), y=deep_finetuning_train_loss, label=\"Deep Fine-tuning\")\n",
        "sns.lineplot(x=np.arange(len(scratch_train_loss)), y=scratch_train_loss, label=\"Training from scratch\")\n",
        "plt.xlabel(\"Epochs\")\n",
        "plt.ylabel(\"Training Loss\")\n",
        "sns.despine()\n",
        "plt.title(\"Training Loss Comparison\")\n",
        "plt.show()\n",
        "plt.close()\n",
        "\n",
        "# Comparing the validation accuracies per epoch\n",
        "sns.lineplot(x=np.arange(len(shallow_finetuning_val_acc)), y=shallow_finetuning_val_acc, label=\"Shallow Fine-tuning\")\n",
        "sns.lineplot(x=np.arange(len(deep_finetuning_val_acc)), y=deep_finetuning_val_acc, label=\"Deep Fine-tuning\")\n",
        "sns.lineplot(x=np.arange(len(scratch_val_acc)), y=scratch_val_acc, label=\"Training from scratch\")\n",
        "plt.xlabel(\"Epochs\")\n",
        "plt.ylabel(\"Validation Accuracy\")\n",
        "sns.despine()\n",
        "plt.title(\"Validation Accuracy Comparison\")\n",
        "plt.show()\n",
        "plt.close()"
      ],
      "metadata": {
        "colab": {
          "base_uri": "https://localhost:8080/",
          "height": 927
        },
        "id": "wILFQG25Zf_Z",
        "outputId": "8ecddbea-a989-4337-a57d-ef53a7be716f"
      },
      "execution_count": 13,
      "outputs": [
        {
          "output_type": "display_data",
          "data": {
            "text/plain": [
              "<Figure size 640x480 with 1 Axes>"
            ],
            "image/png": "[encoded data removed]"
          },
          "metadata": {}
        },
        {
          "output_type": "display_data",
          "data": {
            "text/plain": [
              "<Figure size 640x480 with 1 Axes>"
            ],
            "image/png": "[encoded data removed]"
          },
          "metadata": {}
        }
      ]
    }
  ]
}